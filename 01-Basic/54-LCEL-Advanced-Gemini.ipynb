{
 "cells": [
  {
   "cell_type": "markdown",
   "id": "50650ed4",
   "metadata": {},
   "source": [
    "## LCEL 인터페이스\n"
   ]
  },
  {
   "cell_type": "markdown",
   "id": "6b78209c",
   "metadata": {},
   "source": [
    "사용자 정의 체인을 가능한 쉽게 만들 수 있도록, 우리는 [\"Runnable\"](https://api.python.langchain.com/en/stable/runnables/langchain_core.runnables.base.Runnable.html#langchain_core.runnables.base.Runnable) 프로토콜을 구현했습니다. `Runnable` 프로토콜은 대부분의 컴포넌트에 구현되어 있습니다.\n",
    "이는 표준 인터페이스로, 사용자 정의 체인을 정의하고 표준 방식으로 호출하는 것을 쉽게 만듭니다.\n",
    "표준 인터페이스에는 다음이 포함됩니다:\n",
    "\n",
    "- [`stream`](#stream): 응답의 청크를 스트리밍합니다\n",
    "- [`invoke`](#invoke): 입력에 대해 체인을 호출합니다\n",
    "- [`batch`](#batch): 입력 목록에 대해 체인을 호출합니다\n",
    "\n",
    "이들에는 해당하는 비동기 메소드도 있습니다:\n",
    "\n",
    "- [`astream`](#async-stream): 비동기적으로 응답의 청크를 스트리밍합니다\n",
    "- [`ainvoke`](#async-invoke): 비동기적으로 입력에 대해 체인을 호출합니다\n",
    "- [`abatch`](#async-batch): 비동기적으로 입력 목록에 대해 체인을 호출합니다\n",
    "- [`astream_log`](#async-stream-intermediate-steps): 최종 응답뿐만 아니라 발생하는 중간 단계를 스트리밍합니다\n",
    "\n",
    "**입력 타입**과 **출력 타입**은 컴포넌트에 따라 다릅니다:\n",
    "\n",
    "| 컴포넌트     | 입력 타입                                      | 출력 타입        |\n",
    "| ------------ | ---------------------------------------------- | ---------------- |\n",
    "| Prompt       | 사전                                           | PromptValue      |\n",
    "| ChatModel    | 단일 문자열, 채팅 메시지 목록 또는 PromptValue | ChatMessage      |\n",
    "| LLM          | 단일 문자열, 채팅 메시지 목록 또는 PromptValue | 문자열           |\n",
    "| OutputParser | LLM 또는 ChatModel의 출력                      | 파서에 따라 다름 |\n",
    "| Retriever    | 단일 문자열                                    | 문서 목록        |\n",
    "| Tool         | 도구에 따라 단일 문자열 또는 사전              | 도구에 따라 다름 |\n",
    "\n",
    "모든 runnable은 입력과 출력 **스키마**를 노출하여 입력과 출력을 검사합니다:\n",
    "\n",
    "- [`input_schema`](#input-schema): Runnable의 구조에서 자동 생성된 입력 Pydantic 모델\n",
    "- [`output_schema`](#output-schema): Runnable의 구조에서 자동 생성된 출력 Pydantic 모델\n",
    "\n",
    "이 메소드들을 살펴보겠습니다. 이를 위해, 우리는 매우 간단한 PromptTemplate + ChatModel 체인을 만들 것입니다.\n"
   ]
  },
  {
   "cell_type": "code",
   "execution_count": 1,
   "id": "b5a5ffc2",
   "metadata": {},
   "outputs": [
    {
     "data": {
      "text/plain": [
       "True"
      ]
     },
     "execution_count": 1,
     "metadata": {},
     "output_type": "execute_result"
    }
   ],
   "source": [
    "# API KEY를 환경변수로 관리하기 위한 설정 파일\n",
    "\n",
    "from dotenv import load_dotenv\n",
    "\n",
    "# API KEY 정보로드\n",
    "load_dotenv()"
   ]
  },
  {
   "cell_type": "markdown",
   "id": "e4ea3917",
   "metadata": {},
   "source": [
    "이 코드는 `langchain` 라이브러리를 사용하여 챗봇 모델을 구성합니다. `ChatOpenAI` 클래스를 사용하여 OpenAI의 챗봇 모델 인스턴스를 생성하고, `ChatPromptTemplate` 클래스를 사용하여 특정 주제에 대한 농담을 요청하는 프롬프트 템플릿을 만듭니다. 이후 프롬프트와 모델을 파이프 연산자(`|`)를 사용하여 연결함으로써 대화 체인을 구성합니다. 사용자는 이 체인을 통해 주제를 입력하면 관련 농담을 생성하는 챗봇과 상호작용할 수 있습니다.\n"
   ]
  },
  {
   "cell_type": "code",
   "execution_count": 2,
   "id": "735d72ca",
   "metadata": {},
   "outputs": [
    {
     "name": "stderr",
     "output_type": "stream",
     "text": [
      "/opt/miniconda3/envs/ai/lib/python3.11/site-packages/tqdm/auto.py:21: TqdmWarning: IProgress not found. Please update jupyter and ipywidgets. See https://ipywidgets.readthedocs.io/en/stable/user_install.html\n",
      "  from .autonotebook import tqdm as notebook_tqdm\n"
     ]
    }
   ],
   "source": [
    "# from langchain_openai import ChatOpenAI\n",
    "from langchain_google_genai import ChatGoogleGenerativeAI\n",
    "from langchain.prompts import ChatPromptTemplate\n",
    "\n",
    "# ChatOpenAI 모델을 인스턴스화합니다.\n",
    "# model = ChatOpenAI()\n",
    "model = ChatGoogleGenerativeAI(model=\"gemini-pro\")\n",
    "# 주어진 토픽에 대한 농담을 요청하는 프롬프트 템플릿을 생성합니다.\n",
    "prompt = ChatPromptTemplate.from_template(\"{topic} 에 대하여 3문장으로 설명해줘.\")\n",
    "# 프롬프트와 모델을 연결하여 대화 체인을 생성합니다.\n",
    "chain = prompt | model"
   ]
  },
  {
   "cell_type": "markdown",
   "id": "7489846f",
   "metadata": {},
   "source": [
    "## 입력 스키마\n",
    "\n",
    "Runnable에 의해 수락된 입력들에 대한 설명입니다.\n",
    "이것은 어떤 Runnable의 구조로부터 동적으로 생성된 Pydantic 모델입니다.\n",
    "JSONSchema 표현을 얻기 위해 `.schema()`를 호출할 수 있습니다.\n"
   ]
  },
  {
   "cell_type": "markdown",
   "id": "b0786491",
   "metadata": {},
   "source": [
    "`chain` 객체의 `input_schema` 속성을 사용하여 체인의 첫 번째 부분인 프롬프트의 입력 스키마를 조회합니다. `schema()` 메서드를 호출하여 해당 스키마의 구조를 얻을 수 있습니다.\n"
   ]
  },
  {
   "cell_type": "code",
   "execution_count": 3,
   "id": "135f3bf9",
   "metadata": {},
   "outputs": [
    {
     "data": {
      "text/plain": [
       "{'title': 'PromptInput',\n",
       " 'type': 'object',\n",
       " 'properties': {'topic': {'title': 'Topic', 'type': 'string'}}}"
      ]
     },
     "execution_count": 3,
     "metadata": {},
     "output_type": "execute_result"
    }
   ],
   "source": [
    "# 체인의 입력 스키마는 첫 번째 부분인 프롬프트의 입력 스키마입니다.\n",
    "chain.input_schema.schema()"
   ]
  },
  {
   "cell_type": "markdown",
   "id": "06c772c4",
   "metadata": {},
   "source": [
    "이 코드는 JSON 스키마를 정의하고, 해당 스키마를 출력하는 기능을 구현합니다. `input_schema` 변수는 'name'과 'age' 필드를 가진 객체를 기술하는 스키마를 담고 있으며, 이 두 필드는 필수 요소입니다. 'name' 필드는 문자열 타입이고, 'age' 필드는 정수 타입으로, 최소값은 0입니다. `print_schema` 함수는 인자로 받은 스키마를 JSON 형식으로 콘솔에 출력합니다. 마지막으로 `print_schema` 함수는 `input_schema`를 인자로 받아 호출되어 스키마를 출력합니다.\n"
   ]
  },
  {
   "cell_type": "code",
   "execution_count": 4,
   "id": "31325cc6",
   "metadata": {},
   "outputs": [
    {
     "name": "stdout",
     "output_type": "stream",
     "text": [
      "{\n",
      "    \"type\": \"object\",\n",
      "    \"properties\": {\n",
      "        \"name\": {\n",
      "            \"type\": \"string\"\n",
      "        },\n",
      "        \"age\": {\n",
      "            \"type\": \"integer\",\n",
      "            \"minimum\": 0\n",
      "        }\n",
      "    },\n",
      "    \"required\": [\n",
      "        \"name\",\n",
      "        \"age\"\n",
      "    ]\n",
      "}\n"
     ]
    }
   ],
   "source": [
    "import json\n",
    "\n",
    "\n",
    "# 스키마를 출력하는 함수를 정의합니다.\n",
    "def print_schema(schema):\n",
    "    # 스키마를 JSON 형식으로 출력합니다.\n",
    "    print(json.dumps(schema, indent=4))\n",
    "\n",
    "\n",
    "# 입력 스키마를 정의합니다.\n",
    "input_schema = {\n",
    "    \"type\": \"object\",\n",
    "    \"properties\": {\n",
    "        \"name\": {\"type\": \"string\"},\n",
    "        \"age\": {\"type\": \"integer\", \"minimum\": 0},\n",
    "    },\n",
    "    \"required\": [\"name\", \"age\"],\n",
    "}\n",
    "\n",
    "# 스키마를 출력하는 함수를 호출합니다.\n",
    "print_schema(input_schema)"
   ]
  },
  {
   "cell_type": "markdown",
   "id": "611bc0ac",
   "metadata": {},
   "source": [
    "이 함수는 `model` 객체의 입력 스키마를 반환합니다. `input_schema` 속성은 모델이 예상하는 입력 데이터의 구조를 정의하며, `schema()` 메서드를 호출하여 이를 JSON 형식으로 출력합니다.\n"
   ]
  },
  {
   "cell_type": "code",
   "execution_count": 5,
   "id": "ab011094",
   "metadata": {},
   "outputs": [
    {
     "data": {
      "text/plain": [
       "{'title': 'ChatGoogleGenerativeAIInput',\n",
       " 'anyOf': [{'type': 'string'},\n",
       "  {'$ref': '#/definitions/StringPromptValue'},\n",
       "  {'$ref': '#/definitions/ChatPromptValueConcrete'},\n",
       "  {'type': 'array',\n",
       "   'items': {'anyOf': [{'$ref': '#/definitions/AIMessage'},\n",
       "     {'$ref': '#/definitions/HumanMessage'},\n",
       "     {'$ref': '#/definitions/ChatMessage'},\n",
       "     {'$ref': '#/definitions/SystemMessage'},\n",
       "     {'$ref': '#/definitions/FunctionMessage'},\n",
       "     {'$ref': '#/definitions/ToolMessage'}]}}],\n",
       " 'definitions': {'StringPromptValue': {'title': 'StringPromptValue',\n",
       "   'description': 'String prompt value.',\n",
       "   'type': 'object',\n",
       "   'properties': {'text': {'title': 'Text', 'type': 'string'},\n",
       "    'type': {'title': 'Type',\n",
       "     'default': 'StringPromptValue',\n",
       "     'enum': ['StringPromptValue'],\n",
       "     'type': 'string'}},\n",
       "   'required': ['text']},\n",
       "  'ToolCall': {'title': 'ToolCall',\n",
       "   'type': 'object',\n",
       "   'properties': {'name': {'title': 'Name', 'type': 'string'},\n",
       "    'args': {'title': 'Args', 'type': 'object'},\n",
       "    'id': {'title': 'Id', 'type': 'string'}},\n",
       "   'required': ['name', 'args', 'id']},\n",
       "  'InvalidToolCall': {'title': 'InvalidToolCall',\n",
       "   'type': 'object',\n",
       "   'properties': {'name': {'title': 'Name', 'type': 'string'},\n",
       "    'args': {'title': 'Args', 'type': 'string'},\n",
       "    'id': {'title': 'Id', 'type': 'string'},\n",
       "    'error': {'title': 'Error', 'type': 'string'}},\n",
       "   'required': ['name', 'args', 'id', 'error']},\n",
       "  'AIMessage': {'title': 'AIMessage',\n",
       "   'description': 'Message from an AI.',\n",
       "   'type': 'object',\n",
       "   'properties': {'content': {'title': 'Content',\n",
       "     'anyOf': [{'type': 'string'},\n",
       "      {'type': 'array',\n",
       "       'items': {'anyOf': [{'type': 'string'}, {'type': 'object'}]}}]},\n",
       "    'additional_kwargs': {'title': 'Additional Kwargs', 'type': 'object'},\n",
       "    'response_metadata': {'title': 'Response Metadata', 'type': 'object'},\n",
       "    'type': {'title': 'Type',\n",
       "     'default': 'ai',\n",
       "     'enum': ['ai'],\n",
       "     'type': 'string'},\n",
       "    'name': {'title': 'Name', 'type': 'string'},\n",
       "    'id': {'title': 'Id', 'type': 'string'},\n",
       "    'example': {'title': 'Example', 'default': False, 'type': 'boolean'},\n",
       "    'tool_calls': {'title': 'Tool Calls',\n",
       "     'default': [],\n",
       "     'type': 'array',\n",
       "     'items': {'$ref': '#/definitions/ToolCall'}},\n",
       "    'invalid_tool_calls': {'title': 'Invalid Tool Calls',\n",
       "     'default': [],\n",
       "     'type': 'array',\n",
       "     'items': {'$ref': '#/definitions/InvalidToolCall'}}},\n",
       "   'required': ['content']},\n",
       "  'HumanMessage': {'title': 'HumanMessage',\n",
       "   'description': 'Message from a human.',\n",
       "   'type': 'object',\n",
       "   'properties': {'content': {'title': 'Content',\n",
       "     'anyOf': [{'type': 'string'},\n",
       "      {'type': 'array',\n",
       "       'items': {'anyOf': [{'type': 'string'}, {'type': 'object'}]}}]},\n",
       "    'additional_kwargs': {'title': 'Additional Kwargs', 'type': 'object'},\n",
       "    'response_metadata': {'title': 'Response Metadata', 'type': 'object'},\n",
       "    'type': {'title': 'Type',\n",
       "     'default': 'human',\n",
       "     'enum': ['human'],\n",
       "     'type': 'string'},\n",
       "    'name': {'title': 'Name', 'type': 'string'},\n",
       "    'id': {'title': 'Id', 'type': 'string'},\n",
       "    'example': {'title': 'Example', 'default': False, 'type': 'boolean'}},\n",
       "   'required': ['content']},\n",
       "  'ChatMessage': {'title': 'ChatMessage',\n",
       "   'description': 'Message that can be assigned an arbitrary speaker (i.e. role).',\n",
       "   'type': 'object',\n",
       "   'properties': {'content': {'title': 'Content',\n",
       "     'anyOf': [{'type': 'string'},\n",
       "      {'type': 'array',\n",
       "       'items': {'anyOf': [{'type': 'string'}, {'type': 'object'}]}}]},\n",
       "    'additional_kwargs': {'title': 'Additional Kwargs', 'type': 'object'},\n",
       "    'response_metadata': {'title': 'Response Metadata', 'type': 'object'},\n",
       "    'type': {'title': 'Type',\n",
       "     'default': 'chat',\n",
       "     'enum': ['chat'],\n",
       "     'type': 'string'},\n",
       "    'name': {'title': 'Name', 'type': 'string'},\n",
       "    'id': {'title': 'Id', 'type': 'string'},\n",
       "    'role': {'title': 'Role', 'type': 'string'}},\n",
       "   'required': ['content', 'role']},\n",
       "  'SystemMessage': {'title': 'SystemMessage',\n",
       "   'description': 'Message for priming AI behavior, usually passed in as the first of a sequence\\nof input messages.',\n",
       "   'type': 'object',\n",
       "   'properties': {'content': {'title': 'Content',\n",
       "     'anyOf': [{'type': 'string'},\n",
       "      {'type': 'array',\n",
       "       'items': {'anyOf': [{'type': 'string'}, {'type': 'object'}]}}]},\n",
       "    'additional_kwargs': {'title': 'Additional Kwargs', 'type': 'object'},\n",
       "    'response_metadata': {'title': 'Response Metadata', 'type': 'object'},\n",
       "    'type': {'title': 'Type',\n",
       "     'default': 'system',\n",
       "     'enum': ['system'],\n",
       "     'type': 'string'},\n",
       "    'name': {'title': 'Name', 'type': 'string'},\n",
       "    'id': {'title': 'Id', 'type': 'string'}},\n",
       "   'required': ['content']},\n",
       "  'FunctionMessage': {'title': 'FunctionMessage',\n",
       "   'description': 'Message for passing the result of executing a function back to a model.',\n",
       "   'type': 'object',\n",
       "   'properties': {'content': {'title': 'Content',\n",
       "     'anyOf': [{'type': 'string'},\n",
       "      {'type': 'array',\n",
       "       'items': {'anyOf': [{'type': 'string'}, {'type': 'object'}]}}]},\n",
       "    'additional_kwargs': {'title': 'Additional Kwargs', 'type': 'object'},\n",
       "    'response_metadata': {'title': 'Response Metadata', 'type': 'object'},\n",
       "    'type': {'title': 'Type',\n",
       "     'default': 'function',\n",
       "     'enum': ['function'],\n",
       "     'type': 'string'},\n",
       "    'name': {'title': 'Name', 'type': 'string'},\n",
       "    'id': {'title': 'Id', 'type': 'string'}},\n",
       "   'required': ['content', 'name']},\n",
       "  'ToolMessage': {'title': 'ToolMessage',\n",
       "   'description': 'Message for passing the result of executing a tool back to a model.',\n",
       "   'type': 'object',\n",
       "   'properties': {'content': {'title': 'Content',\n",
       "     'anyOf': [{'type': 'string'},\n",
       "      {'type': 'array',\n",
       "       'items': {'anyOf': [{'type': 'string'}, {'type': 'object'}]}}]},\n",
       "    'additional_kwargs': {'title': 'Additional Kwargs', 'type': 'object'},\n",
       "    'response_metadata': {'title': 'Response Metadata', 'type': 'object'},\n",
       "    'type': {'title': 'Type',\n",
       "     'default': 'tool',\n",
       "     'enum': ['tool'],\n",
       "     'type': 'string'},\n",
       "    'name': {'title': 'Name', 'type': 'string'},\n",
       "    'id': {'title': 'Id', 'type': 'string'},\n",
       "    'tool_call_id': {'title': 'Tool Call Id', 'type': 'string'}},\n",
       "   'required': ['content', 'tool_call_id']},\n",
       "  'ChatPromptValueConcrete': {'title': 'ChatPromptValueConcrete',\n",
       "   'description': 'Chat prompt value which explicitly lists out the message types it accepts.\\nFor use in external schemas.',\n",
       "   'type': 'object',\n",
       "   'properties': {'messages': {'title': 'Messages',\n",
       "     'type': 'array',\n",
       "     'items': {'anyOf': [{'$ref': '#/definitions/AIMessage'},\n",
       "       {'$ref': '#/definitions/HumanMessage'},\n",
       "       {'$ref': '#/definitions/ChatMessage'},\n",
       "       {'$ref': '#/definitions/SystemMessage'},\n",
       "       {'$ref': '#/definitions/FunctionMessage'},\n",
       "       {'$ref': '#/definitions/ToolMessage'}]}},\n",
       "    'type': {'title': 'Type',\n",
       "     'default': 'ChatPromptValueConcrete',\n",
       "     'enum': ['ChatPromptValueConcrete'],\n",
       "     'type': 'string'}},\n",
       "   'required': ['messages']}}}"
      ]
     },
     "execution_count": 5,
     "metadata": {},
     "output_type": "execute_result"
    }
   ],
   "source": [
    "# 모델의 입력 스키마를 출력합니다.\n",
    "model.input_schema.schema()"
   ]
  },
  {
   "cell_type": "markdown",
   "id": "311bc257",
   "metadata": {},
   "source": [
    "## 출력 스키마\n",
    "\n",
    "Runnable에서 생성된 출력에 대한 설명입니다.\n",
    "이것은 Runnable의 구조에서 동적으로 생성된 Pydantic 모델입니다.\n",
    "`.schema()`를 호출하여 JSONSchema 표현을 얻을 수 있습니다.\n"
   ]
  },
  {
   "cell_type": "markdown",
   "id": "4ede119d",
   "metadata": {},
   "source": [
    "이 코드는 체인(chain)의 출력 스키마를 확인하는 예제입니다. 여기서 체인은 여러 처리 단계를 연결한 것을 의미하며, 마지막 단계의 출력 스키마가 전체 체인의 출력 스키마가 됩니다. 예시에서는 `ChatModel`이 마지막 단계이며, 이 모델은 `ChatMessage`를 출력합니다. `chain.output_schema.schema()` 메서드를 호출하여 현재 체인의 출력 스키마를 조회할 수 있습니다.\n"
   ]
  },
  {
   "cell_type": "code",
   "execution_count": 6,
   "id": "d879eeff",
   "metadata": {},
   "outputs": [
    {
     "data": {
      "text/plain": [
       "{'title': 'ChatGoogleGenerativeAIOutput',\n",
       " 'anyOf': [{'$ref': '#/definitions/AIMessage'},\n",
       "  {'$ref': '#/definitions/HumanMessage'},\n",
       "  {'$ref': '#/definitions/ChatMessage'},\n",
       "  {'$ref': '#/definitions/SystemMessage'},\n",
       "  {'$ref': '#/definitions/FunctionMessage'},\n",
       "  {'$ref': '#/definitions/ToolMessage'}],\n",
       " 'definitions': {'ToolCall': {'title': 'ToolCall',\n",
       "   'type': 'object',\n",
       "   'properties': {'name': {'title': 'Name', 'type': 'string'},\n",
       "    'args': {'title': 'Args', 'type': 'object'},\n",
       "    'id': {'title': 'Id', 'type': 'string'}},\n",
       "   'required': ['name', 'args', 'id']},\n",
       "  'InvalidToolCall': {'title': 'InvalidToolCall',\n",
       "   'type': 'object',\n",
       "   'properties': {'name': {'title': 'Name', 'type': 'string'},\n",
       "    'args': {'title': 'Args', 'type': 'string'},\n",
       "    'id': {'title': 'Id', 'type': 'string'},\n",
       "    'error': {'title': 'Error', 'type': 'string'}},\n",
       "   'required': ['name', 'args', 'id', 'error']},\n",
       "  'AIMessage': {'title': 'AIMessage',\n",
       "   'description': 'Message from an AI.',\n",
       "   'type': 'object',\n",
       "   'properties': {'content': {'title': 'Content',\n",
       "     'anyOf': [{'type': 'string'},\n",
       "      {'type': 'array',\n",
       "       'items': {'anyOf': [{'type': 'string'}, {'type': 'object'}]}}]},\n",
       "    'additional_kwargs': {'title': 'Additional Kwargs', 'type': 'object'},\n",
       "    'response_metadata': {'title': 'Response Metadata', 'type': 'object'},\n",
       "    'type': {'title': 'Type',\n",
       "     'default': 'ai',\n",
       "     'enum': ['ai'],\n",
       "     'type': 'string'},\n",
       "    'name': {'title': 'Name', 'type': 'string'},\n",
       "    'id': {'title': 'Id', 'type': 'string'},\n",
       "    'example': {'title': 'Example', 'default': False, 'type': 'boolean'},\n",
       "    'tool_calls': {'title': 'Tool Calls',\n",
       "     'default': [],\n",
       "     'type': 'array',\n",
       "     'items': {'$ref': '#/definitions/ToolCall'}},\n",
       "    'invalid_tool_calls': {'title': 'Invalid Tool Calls',\n",
       "     'default': [],\n",
       "     'type': 'array',\n",
       "     'items': {'$ref': '#/definitions/InvalidToolCall'}}},\n",
       "   'required': ['content']},\n",
       "  'HumanMessage': {'title': 'HumanMessage',\n",
       "   'description': 'Message from a human.',\n",
       "   'type': 'object',\n",
       "   'properties': {'content': {'title': 'Content',\n",
       "     'anyOf': [{'type': 'string'},\n",
       "      {'type': 'array',\n",
       "       'items': {'anyOf': [{'type': 'string'}, {'type': 'object'}]}}]},\n",
       "    'additional_kwargs': {'title': 'Additional Kwargs', 'type': 'object'},\n",
       "    'response_metadata': {'title': 'Response Metadata', 'type': 'object'},\n",
       "    'type': {'title': 'Type',\n",
       "     'default': 'human',\n",
       "     'enum': ['human'],\n",
       "     'type': 'string'},\n",
       "    'name': {'title': 'Name', 'type': 'string'},\n",
       "    'id': {'title': 'Id', 'type': 'string'},\n",
       "    'example': {'title': 'Example', 'default': False, 'type': 'boolean'}},\n",
       "   'required': ['content']},\n",
       "  'ChatMessage': {'title': 'ChatMessage',\n",
       "   'description': 'Message that can be assigned an arbitrary speaker (i.e. role).',\n",
       "   'type': 'object',\n",
       "   'properties': {'content': {'title': 'Content',\n",
       "     'anyOf': [{'type': 'string'},\n",
       "      {'type': 'array',\n",
       "       'items': {'anyOf': [{'type': 'string'}, {'type': 'object'}]}}]},\n",
       "    'additional_kwargs': {'title': 'Additional Kwargs', 'type': 'object'},\n",
       "    'response_metadata': {'title': 'Response Metadata', 'type': 'object'},\n",
       "    'type': {'title': 'Type',\n",
       "     'default': 'chat',\n",
       "     'enum': ['chat'],\n",
       "     'type': 'string'},\n",
       "    'name': {'title': 'Name', 'type': 'string'},\n",
       "    'id': {'title': 'Id', 'type': 'string'},\n",
       "    'role': {'title': 'Role', 'type': 'string'}},\n",
       "   'required': ['content', 'role']},\n",
       "  'SystemMessage': {'title': 'SystemMessage',\n",
       "   'description': 'Message for priming AI behavior, usually passed in as the first of a sequence\\nof input messages.',\n",
       "   'type': 'object',\n",
       "   'properties': {'content': {'title': 'Content',\n",
       "     'anyOf': [{'type': 'string'},\n",
       "      {'type': 'array',\n",
       "       'items': {'anyOf': [{'type': 'string'}, {'type': 'object'}]}}]},\n",
       "    'additional_kwargs': {'title': 'Additional Kwargs', 'type': 'object'},\n",
       "    'response_metadata': {'title': 'Response Metadata', 'type': 'object'},\n",
       "    'type': {'title': 'Type',\n",
       "     'default': 'system',\n",
       "     'enum': ['system'],\n",
       "     'type': 'string'},\n",
       "    'name': {'title': 'Name', 'type': 'string'},\n",
       "    'id': {'title': 'Id', 'type': 'string'}},\n",
       "   'required': ['content']},\n",
       "  'FunctionMessage': {'title': 'FunctionMessage',\n",
       "   'description': 'Message for passing the result of executing a function back to a model.',\n",
       "   'type': 'object',\n",
       "   'properties': {'content': {'title': 'Content',\n",
       "     'anyOf': [{'type': 'string'},\n",
       "      {'type': 'array',\n",
       "       'items': {'anyOf': [{'type': 'string'}, {'type': 'object'}]}}]},\n",
       "    'additional_kwargs': {'title': 'Additional Kwargs', 'type': 'object'},\n",
       "    'response_metadata': {'title': 'Response Metadata', 'type': 'object'},\n",
       "    'type': {'title': 'Type',\n",
       "     'default': 'function',\n",
       "     'enum': ['function'],\n",
       "     'type': 'string'},\n",
       "    'name': {'title': 'Name', 'type': 'string'},\n",
       "    'id': {'title': 'Id', 'type': 'string'}},\n",
       "   'required': ['content', 'name']},\n",
       "  'ToolMessage': {'title': 'ToolMessage',\n",
       "   'description': 'Message for passing the result of executing a tool back to a model.',\n",
       "   'type': 'object',\n",
       "   'properties': {'content': {'title': 'Content',\n",
       "     'anyOf': [{'type': 'string'},\n",
       "      {'type': 'array',\n",
       "       'items': {'anyOf': [{'type': 'string'}, {'type': 'object'}]}}]},\n",
       "    'additional_kwargs': {'title': 'Additional Kwargs', 'type': 'object'},\n",
       "    'response_metadata': {'title': 'Response Metadata', 'type': 'object'},\n",
       "    'type': {'title': 'Type',\n",
       "     'default': 'tool',\n",
       "     'enum': ['tool'],\n",
       "     'type': 'string'},\n",
       "    'name': {'title': 'Name', 'type': 'string'},\n",
       "    'id': {'title': 'Id', 'type': 'string'},\n",
       "    'tool_call_id': {'title': 'Tool Call Id', 'type': 'string'}},\n",
       "   'required': ['content', 'tool_call_id']}}}"
      ]
     },
     "execution_count": 6,
     "metadata": {},
     "output_type": "execute_result"
    }
   ],
   "source": [
    "# 체인의 출력 스키마는 마지막 부분의 출력 스키마입니다. 이 경우 ChatModel의 출력 스키마로, ChatMessage를 출력합니다.\n",
    "chain.output_schema.schema()"
   ]
  },
  {
   "cell_type": "markdown",
   "id": "eb57eb05",
   "metadata": {},
   "source": [
    "## stream: 실시간 출력\n"
   ]
  },
  {
   "cell_type": "markdown",
   "id": "1d62447d",
   "metadata": {},
   "source": [
    "이 함수는 `chain.stream` 메서드를 사용하여 주어진 토픽에 대한 데이터 스트림을 생성하고, 이 스트림을 반복하여 각 데이터의 내용(`content`)을 즉시 출력합니다. `end=\"\"` 인자는 출력 후 줄바꿈을 하지 않도록 설정하며, `flush=True` 인자는 출력 버퍼를 즉시 비우도록 합니다. 이는 스트리밍 데이터를 실시간으로 처리할 때 유용하게 사용됩니다.\n"
   ]
  },
  {
   "cell_type": "code",
   "execution_count": 7,
   "id": "f6304f90",
   "metadata": {},
   "outputs": [
    {
     "name": "stdout",
     "output_type": "stream",
     "text": [
      "멀티모달은 서로 다른 모달리티(예: 텍스트, 이미지, 오디오, 비디오)의 정보를 결합하는 것으로, 인간과 컴퓨터 시스템 간의 보다 자연스럽고 효과적인 상호 작용을 가능하게 합니다. 이를 통해 복잡한 정보를 더 효율적이고 매력적으로 표현하고, 컴퓨터가 다양한 형태의 데이터를 이해하고 응답할 수 있는 능력을 향상시킵니다. 멀티모달 인터페이스, 검색 엔진, 자연어 처리와 같은 다양한 응용 분야에서 광범위하게 사용되고 있습니다."
     ]
    }
   ],
   "source": [
    "# chain.stream 메서드를 사용하여 '멀티모달' 토픽에 대한 스트림을 생성하고 반복합니다.\n",
    "for s in chain.stream({\"topic\": \"멀티모달\"}):\n",
    "    # 스트림에서 받은 데이터의 내용을 출력합니다. 줄바꿈 없이 이어서 출력하고, 버퍼를 즉시 비웁니다.\n",
    "    print(s.content, end=\"\", flush=True)"
   ]
  },
  {
   "cell_type": "markdown",
   "id": "0e6d71cf",
   "metadata": {},
   "source": [
    "## invoke: 호출\n"
   ]
  },
  {
   "cell_type": "markdown",
   "id": "2a0feebe",
   "metadata": {},
   "source": [
    "`chain` 객체의 `invoke` 메서드는 주제를 인자로 받아 해당 주제에 대한 처리를 수행합니다. 이 예제에서는 `topic` 키에 `'ChatGPT'` 값을 가진 딕셔너리를 `invoke` 메서드에 전달하고 있습니다.\n"
   ]
  },
  {
   "cell_type": "code",
   "execution_count": 8,
   "id": "6fb8bf06",
   "metadata": {},
   "outputs": [
    {
     "data": {
      "text/plain": [
       "AIMessage(content='ChatGPT는 OpenAI가 개발한 대규모 언어 모델로, 인간과 유사한 텍스트 생성, 질문 답변, 번역 등 다양한 언어 관련 작업을 수행할 수 있습니다. 지대한 양의 텍스트 데이터로 훈련되어 자연스럽고 일관성 있는 텍스트를 생성하며, 사용자의 질문에 대한 상세하고 정보적인 답변을 제공합니다. ChatGPT는 고객 지원, 정보 검색, 콘텐츠 생성과 같은 분야에서 광범위하게 활용되고 있습니다.', response_metadata={'prompt_feedback': {'block_reason': 0, 'safety_ratings': []}, 'finish_reason': 'STOP', 'safety_ratings': [{'category': 'HARM_CATEGORY_SEXUALLY_EXPLICIT', 'probability': 'NEGLIGIBLE', 'blocked': False}, {'category': 'HARM_CATEGORY_HATE_SPEECH', 'probability': 'NEGLIGIBLE', 'blocked': False}, {'category': 'HARM_CATEGORY_HARASSMENT', 'probability': 'NEGLIGIBLE', 'blocked': False}, {'category': 'HARM_CATEGORY_DANGEROUS_CONTENT', 'probability': 'NEGLIGIBLE', 'blocked': False}]}, id='run-97767791-be8b-4c62-b963-2ba8a7e0d9b1-0')"
      ]
     },
     "execution_count": 8,
     "metadata": {},
     "output_type": "execute_result"
    }
   ],
   "source": [
    "# chain 객체의 invoke 메서드를 호출하고, 'ChatGPT'라는 주제로 딕셔너리를 전달합니다.\n",
    "chain.invoke({\"topic\": \"ChatGPT\"})"
   ]
  },
  {
   "cell_type": "markdown",
   "id": "a6618b9d",
   "metadata": {},
   "source": [
    "## batch: 배치(단위 실행)\n"
   ]
  },
  {
   "cell_type": "markdown",
   "id": "c8c34bad",
   "metadata": {},
   "source": [
    "함수 `chain.batch`는 여러 개의 딕셔너리를 포함하는 리스트를 인자로 받아, 각 딕셔너리에 있는 `topic` 키의 값을 사용하여 일괄 처리를 수행합니다. 이 예시에서는 두 개의 토픽, `ChatGPT`와 `Instagram`에 대한 처리를 요청합니다.\n"
   ]
  },
  {
   "cell_type": "code",
   "execution_count": 9,
   "id": "687d223d",
   "metadata": {},
   "outputs": [
    {
     "data": {
      "text/plain": [
       "[AIMessage(content='ChatGPT는 OpenAI에서 개발된 대규모 언어 모델로, 인간과 자연스러운 대화를 나눌 수 있는 능력을 가지고 있습니다. 사용자의 쿼리에 대해 포괄적이고 유익한 답변을 생성하고, 다양한 언어로 번역, 요약, 심지어 코드 생성을 수행할 수 있습니다. 이 모델은 대규모 텍스트 데이터셋을 학습하여 패턴과 관계를 파악하여 인간과 유사한 텍스트를 생성합니다.', response_metadata={'prompt_feedback': {'block_reason': 0, 'safety_ratings': []}, 'finish_reason': 'STOP', 'safety_ratings': [{'category': 'HARM_CATEGORY_SEXUALLY_EXPLICIT', 'probability': 'NEGLIGIBLE', 'blocked': False}, {'category': 'HARM_CATEGORY_HATE_SPEECH', 'probability': 'NEGLIGIBLE', 'blocked': False}, {'category': 'HARM_CATEGORY_HARASSMENT', 'probability': 'NEGLIGIBLE', 'blocked': False}, {'category': 'HARM_CATEGORY_DANGEROUS_CONTENT', 'probability': 'NEGLIGIBLE', 'blocked': False}]}, id='run-cc242c48-bbfa-45a6-a18a-cf319180b03f-0'),\n",
       " AIMessage(content='인스타그램은 전 세계 사람들이 사진과 비디오를 공유하고 연결할 수 있는 소셜 미디어 플랫폼입니다. 사용자는 자신의 게시물에 필터와 편집 기능을 적용하고 팔로워와 콘텐츠를 공유할 수 있습니다. 인스타그램은 개인 사용뿐만 아니라 기업과 브랜드가 제품과 서비스를 홍보하는 데도 널리 사용됩니다.', response_metadata={'prompt_feedback': {'block_reason': 0, 'safety_ratings': []}, 'finish_reason': 'STOP', 'safety_ratings': [{'category': 'HARM_CATEGORY_SEXUALLY_EXPLICIT', 'probability': 'NEGLIGIBLE', 'blocked': False}, {'category': 'HARM_CATEGORY_HATE_SPEECH', 'probability': 'NEGLIGIBLE', 'blocked': False}, {'category': 'HARM_CATEGORY_HARASSMENT', 'probability': 'NEGLIGIBLE', 'blocked': False}, {'category': 'HARM_CATEGORY_DANGEROUS_CONTENT', 'probability': 'NEGLIGIBLE', 'blocked': False}]}, id='run-e1a58b67-2543-478b-a472-8f44b6c79232-0')]"
      ]
     },
     "execution_count": 9,
     "metadata": {},
     "output_type": "execute_result"
    }
   ],
   "source": [
    "# 주어진 토픽 리스트를 batch 처리하는 함수 호출\n",
    "chain.batch([{\"topic\": \"ChatGPT\"}, {\"topic\": \"Instagram\"}])"
   ]
  },
  {
   "cell_type": "markdown",
   "id": "970a4f5a",
   "metadata": {},
   "source": [
    "`max_concurrency` 매개변수를 사용하여 동시 요청 수를 설정할 수 있습니다\n"
   ]
  },
  {
   "cell_type": "markdown",
   "id": "8861a449",
   "metadata": {},
   "source": [
    "함수 `chain.batch`는 여러 작업을 동시에 처리할 수 있도록 배치 작업을 생성합니다. 이 함수는 두 개의 인자를 받습니다: 작업 목록과 설정을 담은 `config` 딕셔너리입니다. 작업 목록은 딕셔너리의 리스트로, 각 딕셔너리는 처리할 주제를 나타내는 `topic` 키를 포함합니다. `config` 딕셔너리는 `max_concurrency` 키를 통해 동시에 처리할 수 있는 최대 작업 수를 설정합니다. 여기서는 최대 3개의 작업을 동시에 처리하도록 설정되어 있습니다.\n"
   ]
  },
  {
   "cell_type": "code",
   "execution_count": 14,
   "id": "2d5398d9",
   "metadata": {},
   "outputs": [
    {
     "data": {
      "text/plain": [
       "[AIMessage(content='ChatGPT는 OpenAI에서 개발한 자연어 처리 모델로, 다양한 대화 상황에서 사용자와 대화하는 역할을 수행한다. 이 모델은 사전에 대규모로 학습된 데이터를 기반으로 생성되었으며, 사용자의 입력에 적절한 응답을 제공하여 대화를 지속적으로 이어나갈 수 있다. ChatGPT는 자연어 이해와 생성 능력이 뛰어나며, 실제 사용자와의 상호작용을 통해 지속적으로 발전하고 있다.'),\n",
       " AIMessage(content='Instagram은 사진과 동영상을 공유하고 소셜 네트워크 기능을 이용할 수 있는 모바일 앱이다. 사용자들은 자신의 프로필에 사진과 동영상을 업로드하고 다른 사용자들과 인터랙션을 할 수 있다. 또한, 인기 있는 해시태그를 활용하여 다양한 주제의 게시물을 찾을 수 있다.'),\n",
       " AIMessage(content='멀티모달은 여러 가지 모드(예: 음성, 이미지, 텍스트)를 사용하여 정보를 전달하는 것이다.\\n멀티모달은 다양한 감각을 동시에 사용하여 정보를 받는 사람의 이해를 돕는다.\\n멀티모달은 시각과 청각 등 다양한 감각을 활용하여 보다 효과적인 의사소통과 정보 전달을 가능하게 한다.'),\n",
       " AIMessage(content='프로그래밍은 컴퓨터에게 실행할 일련의 명령을 작성하는 과정이다.\\n이를 통해 우리는 문제를 해결하거나 원하는 결과를 얻을 수 있다.\\n프로그래밍은 문제 해결 능력과 창의력을 키우는 동시에 다양한 분야에서 활용되는 핵심 기술이다.'),\n",
       " AIMessage(content='머신러닝은 컴퓨터 시스템이 데이터를 학습하고 패턴을 식별하여 예측, 분류, 클러스터링 등의 작업을 수행하는 인공지능의 한 분야입니다.\\n\\n머신러닝은 통계학, 컴퓨터 과학, 인공지능 등의 다양한 학문을 기반으로 하며, 데이터를 기반으로 모델을 학습시켜 새로운 데이터에 대한 예측을 수행합니다.\\n\\n머신러닝은 비정형 데이터의 처리에서 매우 유용하며, 의료진단, 금융분석, 영상처리 등 다양한 분야에서 활용되고 있습니다.')]"
      ]
     },
     "execution_count": 14,
     "metadata": {},
     "output_type": "execute_result"
    }
   ],
   "source": [
    "chain.batch(\n",
    "    [\n",
    "        {\"topic\": \"ChatGPT\"},\n",
    "        {\"topic\": \"Instagram\"},\n",
    "        {\"topic\": \"멀티모달\"},\n",
    "        {\"topic\": \"프로그래밍\"},\n",
    "        {\"topic\": \"머신러닝\"},\n",
    "    ],\n",
    "    config={\"max_concurrency\": 3},\n",
    ")"
   ]
  },
  {
   "cell_type": "markdown",
   "id": "ec64e4fd",
   "metadata": {},
   "source": [
    "## async stream: 비동기 스트림\n"
   ]
  },
  {
   "cell_type": "markdown",
   "id": "5dbb21a3",
   "metadata": {},
   "source": [
    "함수 `chain.astream`은 비동기 스트림을 생성하며, 주어진 토픽에 대한 메시지를 비동기적으로 처리합니다.\n",
    "\n",
    "비동기 for 루프(`async for`)를 사용하여 스트림에서 메시지를 순차적으로 받아오고, `print` 함수를 통해 메시지의 내용(`s.content`)을 즉시 출력합니다. `end=\"\"`는 출력 후 줄바꿈을 하지 않도록 설정하며, `flush=True`는 출력 버퍼를 강제로 비워 즉시 출력되도록 합니다.\n"
   ]
  },
  {
   "cell_type": "code",
   "execution_count": 15,
   "id": "3f8a9e91",
   "metadata": {},
   "outputs": [
    {
     "name": "stdout",
     "output_type": "stream",
     "text": [
      "YouTube는 구글이 운영하는 동영상 공유 플랫폼으로, 사용자들은 다양한 주제와 형식의 동영상을 업로드하고 시청할 수 있습니다. 또한 이용자들은 댓글과 좋아요 등의 반응을 표시하며, 구독을 통해 원하는 채널의 업데이트를 받을 수 있습니다. 유명인들의 뮤직비디오, 유머 콘텐츠, 교육자료 등 다양한 콘텐츠를 제공하여 많은 사람들에게 인기를 얻고 있습니다."
     ]
    }
   ],
   "source": [
    "# 비동기 스트림을 사용하여 'YouTube' 토픽의 메시지를 처리합니다.\n",
    "async for s in chain.astream({\"topic\": \"YouTube\"}):\n",
    "    # 메시지 내용을 출력합니다. 줄바꿈 없이 바로 출력하고 버퍼를 비웁니다.\n",
    "    print(s.content, end=\"\", flush=True)"
   ]
  },
  {
   "cell_type": "markdown",
   "id": "a33cb7e9",
   "metadata": {},
   "source": [
    "## async invoke: 비동기 호출\n"
   ]
  },
  {
   "cell_type": "markdown",
   "id": "763738b7",
   "metadata": {},
   "source": [
    "`chain` 객체의 `ainvoke` 메서드는 비동기적으로 주어진 인자를 사용하여 작업을 수행합니다. 여기서는 `topic`이라는 키와 `NVDA`(엔비디아의 티커) 라는 값을 가진 딕셔너리를 인자로 전달하고 있습니다. 이 메서드는 특정 토픽에 대한 처리를 비동기적으로 요청하는 데 사용될 수 있습니다.\n"
   ]
  },
  {
   "cell_type": "code",
   "execution_count": 16,
   "id": "2038557a",
   "metadata": {},
   "outputs": [
    {
     "data": {
      "text/plain": [
       "AIMessage(content='NVDA는 NVIDIA Corporation의 주식을 나타내는 기호로, 세계적으로 유명한 그래픽 처리 장치 및 인공지능 기술 개발 회사이다. NVDA 주식은 기술 혁신과 성장 가능성으로 인해 많은 투자자들에게 인기를 끌고 있으며, 주가 상승으로 인한 수익을 기대할 수 있다. 또한, NVDA는 컴퓨터 게임, 자율주행차, 데이터 센터 및 클라우드 컴퓨팅 분야에서 혁신적인 기술을 개발하여 전 세계적으로 큰 영향력을 가지고 있다.')"
      ]
     },
     "execution_count": 16,
     "metadata": {},
     "output_type": "execute_result"
    }
   ],
   "source": [
    "# 비동기 체인 객체의 'ainvoke' 메서드를 호출하여 'NVDA' 토픽을 처리합니다.\n",
    "await chain.ainvoke({\"topic\": \"NVDA\"})"
   ]
  },
  {
   "cell_type": "markdown",
   "id": "1c466177",
   "metadata": {},
   "source": [
    "## async batch: 비동기 배치\n"
   ]
  },
  {
   "cell_type": "markdown",
   "id": "2da01286",
   "metadata": {},
   "source": [
    "함수 `abatch`는 비동기적으로 일련의 작업을 일괄 처리합니다.\n",
    "\n",
    "이 예시에서는 `chain` 객체의 `abatch` 메서드를 사용하여 `topic` 에 대한 작업을 비동기적으로 처리하고 있습니다.\n",
    "\n",
    "`await` 키워드는 해당 비동기 작업이 완료될 때까지 기다리는 데 사용됩니다.\n"
   ]
  },
  {
   "cell_type": "code",
   "execution_count": 17,
   "id": "53a00116",
   "metadata": {},
   "outputs": [
    {
     "data": {
      "text/plain": [
       "[AIMessage(content='YouTube는 구글이 소유하고 있는 동영상 공유 플랫폼이다. 사용자들은 자신의 동영상을 업로드하고 시청할 수 있으며, 다양한 주제와 장르의 동영상을 찾아볼 수 있다. 또한, 유명인들이나 크리에이터들이 자신의 콘텐츠를 공유하고 수익을 창출하는데에도 사용된다.'),\n",
       " AIMessage(content='Instagram은 사진과 동영상을 공유하고 소셜 네트워킹 서비스를 제공하는 애플리케이션입니다.\\n사용자들은 자신의 프로필을 생성하고 팔로우, 좋아요, 댓글 등의 인터랙션을 통해 다른 사용자와 소통할 수 있습니다.\\n인기 있는 인플루언서들이 많이 활동하는 플랫폼으로, 다양한 관심사와 스타일을 가진 사람들이 모여있어 다양한 콘텐츠를 즐길 수 있습니다.'),\n",
       " AIMessage(content='페이스북은 2004년에 설립된 소셜 네트워크 서비스로, 사용자들이 가입하여 친구와 사진, 동영상, 링크 등 다양한 콘텐츠를 공유하고 소통할 수 있는 플랫폼입니다. 전 세계적으로 약 29억 명의 활성 사용자를 보유하며, 개인 및 기업의 마케팅 및 광고에도 널리 활용되고 있습니다. 또한, 페이스북은 인스타그램과 워크플레이스 등 다른 서비스도 운영하고 있습니다.')]"
      ]
     },
     "execution_count": 17,
     "metadata": {},
     "output_type": "execute_result"
    }
   ],
   "source": [
    "# 주어진 토픽에 대해 비동기적으로 일괄 처리를 수행합니다.\n",
    "await chain.abatch(\n",
    "    [{\"topic\": \"YouTube\"}, {\"topic\": \"Instagram\"}, {\"topic\": \"Facebook\"}]\n",
    ")"
   ]
  },
  {
   "cell_type": "markdown",
   "id": "02288c55",
   "metadata": {},
   "source": [
    "## async stream 중간 단계 디버깅\n",
    "\n",
    "모든 runnable은 체인/시퀀스의 중간 단계를 스트리밍하기 위해 사용되는 `.astream_log()` 메서드를 가지고 있습니다.\n",
    "\n",
    "이것은 사용자에게 진행 상황을 보여주거나, 중간 결과를 사용하거나, 체인을 디버깅하는 데 유용합니다.\n",
    "\n",
    "모든 단계를 스트리밍할 수도 있고(기본값), 이름, 태그 또는 메타데이터에 따라 단계를 포함하거나 제외할 수 있습니다.\n",
    "\n",
    "이 메서드는 RunState를 구축하는 데 필요한 순서대로 적용될 때 [JSONPatch](https://jsonpatch.com) 작업을 생성합니다.\n",
    "\n",
    "`LogEntry` 클래스와 `RunState` 클래스는 각각 서브-런과 런의 상태를 나타내는 필드와 설명을 포함하고 있습니다.\n"
   ]
  },
  {
   "cell_type": "markdown",
   "id": "5bd50c82",
   "metadata": {},
   "source": [
    "### JSONPatch 청크 스트리밍\n",
    "\n",
    "이것은 예를 들어 HTTP 서버에서 `JSONPatch`를 스트리밍하고, 클라이언트에서 작업을 적용하여 실행 상태를 재구성하는 데 유용합니다. 웹서버를 더 쉽게 구축할 수 있도록 도와주는 도구인 [LangServe](https://github.com/langchain-ai/langserve)를 참조하세요.\n"
   ]
  },
  {
   "cell_type": "markdown",
   "id": "190fe158",
   "metadata": {},
   "source": [
    "이 코드는 `langchain` 라이브러리를 사용하여 텍스트 기반 질의응답 시스템을 구축하는 과정을 보여줍니다.\n",
    "\n",
    "먼저 `OpenAIEmbeddings`를 사용하여 임베딩을 생성하고, `FAISS` 벡터 스토어를 이용해 텍스트를 인덱싱합니다. 그 후 `ChatPromptTemplate`를 사용하여 질문에 대한 프롬프트를 생성합니다.\n",
    "\n",
    "프롬프트는 `retriever`와 `RunnablePassthrough`를 통해 질문의 컨텍스트를 검색하고, 질문을 그대로 전달합니다. `retrieval_chain`은 이러한 컴포넌트들을 파이프라인으로 연결하고, `StrOutputParser`를 사용하여 모델의 출력을 문자열로 파싱합니다.\n",
    "\n",
    "마지막으로, `astream_log`를 비동기적으로 반복하여 질문에 대한 답변을 로그로 출력합니다.\n"
   ]
  },
  {
   "cell_type": "code",
   "execution_count": 24,
   "id": "54a7a848",
   "metadata": {},
   "outputs": [
    {
     "name": "stdout",
     "output_type": "stream",
     "text": [
      "----------------------------------------\n",
      "RunLogPatch({'op': 'replace',\n",
      "  'path': '',\n",
      "  'value': {'final_output': None,\n",
      "            'id': '9e6620ed-6b2d-42e5-92fa-6cbc0fe88543',\n",
      "            'logs': {},\n",
      "            'streamed_output': []}})\n",
      "----------------------------------------\n",
      "RunLogPatch({'op': 'add',\n",
      "  'path': '/logs/Docs',\n",
      "  'value': {'end_time': None,\n",
      "            'final_output': None,\n",
      "            'id': '720b0985-2569-4e21-9d9d-3691db02fbd0',\n",
      "            'metadata': {},\n",
      "            'name': 'Docs',\n",
      "            'start_time': '2024-02-03T07:12:31.145+00:00',\n",
      "            'streamed_output': [],\n",
      "            'streamed_output_str': [],\n",
      "            'tags': ['map:key:context', 'FAISS', 'OpenAIEmbeddings'],\n",
      "            'type': 'retriever'}})\n",
      "----------------------------------------\n",
      "RunLogPatch({'op': 'add',\n",
      "  'path': '/logs/Docs/final_output',\n",
      "  'value': {'documents': [Document(page_content='테디가 살고 있는 곳은 대한민국 입니다.')]}},\n",
      " {'op': 'add',\n",
      "  'path': '/logs/Docs/end_time',\n",
      "  'value': '2024-02-03T07:12:31.521+00:00'})\n",
      "----------------------------------------\n",
      "RunLogPatch({'op': 'add', 'path': '/streamed_output/-', 'value': ''},\n",
      " {'op': 'replace', 'path': '/final_output', 'value': ''})\n",
      "----------------------------------------\n",
      "RunLogPatch({'op': 'add', 'path': '/streamed_output/-', 'value': '테'},\n",
      " {'op': 'replace', 'path': '/final_output', 'value': '테'})\n",
      "----------------------------------------\n",
      "RunLogPatch({'op': 'add', 'path': '/streamed_output/-', 'value': '디'},\n",
      " {'op': 'replace', 'path': '/final_output', 'value': '테디'})\n",
      "----------------------------------------\n",
      "RunLogPatch({'op': 'add', 'path': '/streamed_output/-', 'value': '가'},\n",
      " {'op': 'replace', 'path': '/final_output', 'value': '테디가'})\n",
      "----------------------------------------\n",
      "RunLogPatch({'op': 'add', 'path': '/streamed_output/-', 'value': ' 살'},\n",
      " {'op': 'replace', 'path': '/final_output', 'value': '테디가 살'})\n",
      "----------------------------------------\n",
      "RunLogPatch({'op': 'add', 'path': '/streamed_output/-', 'value': '고'},\n",
      " {'op': 'replace', 'path': '/final_output', 'value': '테디가 살고'})\n",
      "----------------------------------------\n",
      "RunLogPatch({'op': 'add', 'path': '/streamed_output/-', 'value': ' 있는'},\n",
      " {'op': 'replace', 'path': '/final_output', 'value': '테디가 살고 있는'})\n",
      "----------------------------------------\n",
      "RunLogPatch({'op': 'add', 'path': '/streamed_output/-', 'value': ' 곳'},\n",
      " {'op': 'replace', 'path': '/final_output', 'value': '테디가 살고 있는 곳'})\n",
      "----------------------------------------\n",
      "RunLogPatch({'op': 'add', 'path': '/streamed_output/-', 'value': '은'},\n",
      " {'op': 'replace', 'path': '/final_output', 'value': '테디가 살고 있는 곳은'})\n",
      "----------------------------------------\n",
      "RunLogPatch({'op': 'add', 'path': '/streamed_output/-', 'value': ' 대'},\n",
      " {'op': 'replace', 'path': '/final_output', 'value': '테디가 살고 있는 곳은 대'})\n",
      "----------------------------------------\n",
      "RunLogPatch({'op': 'add', 'path': '/streamed_output/-', 'value': '한'},\n",
      " {'op': 'replace', 'path': '/final_output', 'value': '테디가 살고 있는 곳은 대한'})\n",
      "----------------------------------------\n",
      "RunLogPatch({'op': 'add', 'path': '/streamed_output/-', 'value': '민'},\n",
      " {'op': 'replace', 'path': '/final_output', 'value': '테디가 살고 있는 곳은 대한민'})\n",
      "----------------------------------------\n",
      "RunLogPatch({'op': 'add', 'path': '/streamed_output/-', 'value': '국'},\n",
      " {'op': 'replace', 'path': '/final_output', 'value': '테디가 살고 있는 곳은 대한민국'})\n",
      "----------------------------------------\n",
      "RunLogPatch({'op': 'add', 'path': '/streamed_output/-', 'value': '입니다'},\n",
      " {'op': 'replace', 'path': '/final_output', 'value': '테디가 살고 있는 곳은 대한민국입니다'})\n",
      "----------------------------------------\n",
      "RunLogPatch({'op': 'add', 'path': '/streamed_output/-', 'value': '.'},\n",
      " {'op': 'replace', 'path': '/final_output', 'value': '테디가 살고 있는 곳은 대한민국입니다.'})\n",
      "----------------------------------------\n",
      "RunLogPatch({'op': 'add', 'path': '/streamed_output/-', 'value': ''})\n"
     ]
    }
   ],
   "source": [
    "from langchain_openai import OpenAIEmbeddings\n",
    "from langchain.vectorstores import FAISS\n",
    "from langchain_core.output_parsers import StrOutputParser\n",
    "from langchain_core.runnables import RunnablePassthrough\n",
    "\n",
    "template = \"\"\"Answer the question based only on the following context:\n",
    "{context}\n",
    "\n",
    "Question: {question}\n",
    "\"\"\"\n",
    "prompt = ChatPromptTemplate.from_template(template)\n",
    "\n",
    "vectorstore = FAISS.from_texts(\n",
    "    [\"테디가 살고 있는 곳은 대한민국 입니다.\"], embedding=OpenAIEmbeddings()\n",
    ")\n",
    "retriever = vectorstore.as_retriever()\n",
    "\n",
    "retrieval_chain = (\n",
    "    {\n",
    "        \"context\": retriever.with_config(run_name=\"Docs\"),\n",
    "        \"question\": RunnablePassthrough(),\n",
    "    }\n",
    "    | prompt\n",
    "    | model\n",
    "    | StrOutputParser()\n",
    ")\n",
    "\n",
    "async for chunk in retrieval_chain.astream_log(\n",
    "    \"테디가 살고 있는 곳은 어딘가요?\", include_names=[\"Docs\"]\n",
    "):\n",
    "    print(\"-\" * 40)\n",
    "    print(chunk)"
   ]
  },
  {
   "cell_type": "markdown",
   "id": "99ac6720",
   "metadata": {},
   "source": [
    "### 증분 `RunState` 스트리밍\n",
    "\n",
    "`diff=False`를 전달하면 `RunState`의 증분 값을 간단히 얻을 수 있습니다.\n",
    "더 자세한 출력을 원하면 반복되는 부분이 더 많아집니다.\n"
   ]
  },
  {
   "cell_type": "markdown",
   "id": "474dbea4",
   "metadata": {},
   "source": [
    "이 함수는 `retrieval_chain` 객체의 `astream_log` 비동기 메서드를 사용하여 로그 데이터를 비동기적으로 검색합니다. 검색 쿼리는 \"where did harrison work?\"이며, `include_names` 매개변수를 통해 \"Docs\"를 포함한 로그만을 필터링합니다. `diff` 매개변수는 `False`로 설정되어 있어, 변경 사항에 대한 차이점을 표시하지 않습니다. 각 로그 청크(chunk)가 검색될 때마다, 청크의 내용을 출력하기 전에 구분선을 출력합니다.\n"
   ]
  },
  {
   "cell_type": "code",
   "execution_count": 25,
   "id": "064cdece",
   "metadata": {},
   "outputs": [
    {
     "name": "stdout",
     "output_type": "stream",
     "text": [
      "----------------------------------------------------------------------\n",
      "RunLog({'final_output': None,\n",
      " 'id': '333a7d22-215a-40a7-bf31-06d405e06eaa',\n",
      " 'logs': {},\n",
      " 'streamed_output': []})\n",
      "----------------------------------------------------------------------\n",
      "RunLog({'final_output': None,\n",
      " 'id': '333a7d22-215a-40a7-bf31-06d405e06eaa',\n",
      " 'logs': {'Docs': {'end_time': None,\n",
      "                   'final_output': None,\n",
      "                   'id': '00367c1d-5e3d-4dc1-9c25-09444ed6fda2',\n",
      "                   'metadata': {},\n",
      "                   'name': 'Docs',\n",
      "                   'start_time': '2024-02-03T07:12:44.826+00:00',\n",
      "                   'streamed_output': [],\n",
      "                   'streamed_output_str': [],\n",
      "                   'tags': ['map:key:context', 'FAISS', 'OpenAIEmbeddings'],\n",
      "                   'type': 'retriever'}},\n",
      " 'streamed_output': []})\n",
      "----------------------------------------------------------------------\n",
      "RunLog({'final_output': None,\n",
      " 'id': '333a7d22-215a-40a7-bf31-06d405e06eaa',\n",
      " 'logs': {'Docs': {'end_time': '2024-02-03T07:12:45.099+00:00',\n",
      "                   'final_output': {'documents': [Document(page_content='테디가 살고 있는 곳은 대한민국 입니다.')]},\n",
      "                   'id': '00367c1d-5e3d-4dc1-9c25-09444ed6fda2',\n",
      "                   'metadata': {},\n",
      "                   'name': 'Docs',\n",
      "                   'start_time': '2024-02-03T07:12:44.826+00:00',\n",
      "                   'streamed_output': [],\n",
      "                   'streamed_output_str': [],\n",
      "                   'tags': ['map:key:context', 'FAISS', 'OpenAIEmbeddings'],\n",
      "                   'type': 'retriever'}},\n",
      " 'streamed_output': []})\n",
      "----------------------------------------------------------------------\n",
      "RunLog({'final_output': '',\n",
      " 'id': '333a7d22-215a-40a7-bf31-06d405e06eaa',\n",
      " 'logs': {'Docs': {'end_time': '2024-02-03T07:12:45.099+00:00',\n",
      "                   'final_output': {'documents': [Document(page_content='테디가 살고 있는 곳은 대한민국 입니다.')]},\n",
      "                   'id': '00367c1d-5e3d-4dc1-9c25-09444ed6fda2',\n",
      "                   'metadata': {},\n",
      "                   'name': 'Docs',\n",
      "                   'start_time': '2024-02-03T07:12:44.826+00:00',\n",
      "                   'streamed_output': [],\n",
      "                   'streamed_output_str': [],\n",
      "                   'tags': ['map:key:context', 'FAISS', 'OpenAIEmbeddings'],\n",
      "                   'type': 'retriever'}},\n",
      " 'streamed_output': ['']})\n",
      "----------------------------------------------------------------------\n",
      "RunLog({'final_output': '테',\n",
      " 'id': '333a7d22-215a-40a7-bf31-06d405e06eaa',\n",
      " 'logs': {'Docs': {'end_time': '2024-02-03T07:12:45.099+00:00',\n",
      "                   'final_output': {'documents': [Document(page_content='테디가 살고 있는 곳은 대한민국 입니다.')]},\n",
      "                   'id': '00367c1d-5e3d-4dc1-9c25-09444ed6fda2',\n",
      "                   'metadata': {},\n",
      "                   'name': 'Docs',\n",
      "                   'start_time': '2024-02-03T07:12:44.826+00:00',\n",
      "                   'streamed_output': [],\n",
      "                   'streamed_output_str': [],\n",
      "                   'tags': ['map:key:context', 'FAISS', 'OpenAIEmbeddings'],\n",
      "                   'type': 'retriever'}},\n",
      " 'streamed_output': ['', '테']})\n",
      "----------------------------------------------------------------------\n",
      "RunLog({'final_output': '테디',\n",
      " 'id': '333a7d22-215a-40a7-bf31-06d405e06eaa',\n",
      " 'logs': {'Docs': {'end_time': '2024-02-03T07:12:45.099+00:00',\n",
      "                   'final_output': {'documents': [Document(page_content='테디가 살고 있는 곳은 대한민국 입니다.')]},\n",
      "                   'id': '00367c1d-5e3d-4dc1-9c25-09444ed6fda2',\n",
      "                   'metadata': {},\n",
      "                   'name': 'Docs',\n",
      "                   'start_time': '2024-02-03T07:12:44.826+00:00',\n",
      "                   'streamed_output': [],\n",
      "                   'streamed_output_str': [],\n",
      "                   'tags': ['map:key:context', 'FAISS', 'OpenAIEmbeddings'],\n",
      "                   'type': 'retriever'}},\n",
      " 'streamed_output': ['', '테', '디']})\n",
      "----------------------------------------------------------------------\n",
      "RunLog({'final_output': '테디가',\n",
      " 'id': '333a7d22-215a-40a7-bf31-06d405e06eaa',\n",
      " 'logs': {'Docs': {'end_time': '2024-02-03T07:12:45.099+00:00',\n",
      "                   'final_output': {'documents': [Document(page_content='테디가 살고 있는 곳은 대한민국 입니다.')]},\n",
      "                   'id': '00367c1d-5e3d-4dc1-9c25-09444ed6fda2',\n",
      "                   'metadata': {},\n",
      "                   'name': 'Docs',\n",
      "                   'start_time': '2024-02-03T07:12:44.826+00:00',\n",
      "                   'streamed_output': [],\n",
      "                   'streamed_output_str': [],\n",
      "                   'tags': ['map:key:context', 'FAISS', 'OpenAIEmbeddings'],\n",
      "                   'type': 'retriever'}},\n",
      " 'streamed_output': ['', '테', '디', '가']})\n",
      "----------------------------------------------------------------------\n",
      "RunLog({'final_output': '테디가 살',\n",
      " 'id': '333a7d22-215a-40a7-bf31-06d405e06eaa',\n",
      " 'logs': {'Docs': {'end_time': '2024-02-03T07:12:45.099+00:00',\n",
      "                   'final_output': {'documents': [Document(page_content='테디가 살고 있는 곳은 대한민국 입니다.')]},\n",
      "                   'id': '00367c1d-5e3d-4dc1-9c25-09444ed6fda2',\n",
      "                   'metadata': {},\n",
      "                   'name': 'Docs',\n",
      "                   'start_time': '2024-02-03T07:12:44.826+00:00',\n",
      "                   'streamed_output': [],\n",
      "                   'streamed_output_str': [],\n",
      "                   'tags': ['map:key:context', 'FAISS', 'OpenAIEmbeddings'],\n",
      "                   'type': 'retriever'}},\n",
      " 'streamed_output': ['', '테', '디', '가', ' 살']})\n",
      "----------------------------------------------------------------------\n",
      "RunLog({'final_output': '테디가 살고',\n",
      " 'id': '333a7d22-215a-40a7-bf31-06d405e06eaa',\n",
      " 'logs': {'Docs': {'end_time': '2024-02-03T07:12:45.099+00:00',\n",
      "                   'final_output': {'documents': [Document(page_content='테디가 살고 있는 곳은 대한민국 입니다.')]},\n",
      "                   'id': '00367c1d-5e3d-4dc1-9c25-09444ed6fda2',\n",
      "                   'metadata': {},\n",
      "                   'name': 'Docs',\n",
      "                   'start_time': '2024-02-03T07:12:44.826+00:00',\n",
      "                   'streamed_output': [],\n",
      "                   'streamed_output_str': [],\n",
      "                   'tags': ['map:key:context', 'FAISS', 'OpenAIEmbeddings'],\n",
      "                   'type': 'retriever'}},\n",
      " 'streamed_output': ['', '테', '디', '가', ' 살', '고']})\n",
      "----------------------------------------------------------------------\n",
      "RunLog({'final_output': '테디가 살고 있는',\n",
      " 'id': '333a7d22-215a-40a7-bf31-06d405e06eaa',\n",
      " 'logs': {'Docs': {'end_time': '2024-02-03T07:12:45.099+00:00',\n",
      "                   'final_output': {'documents': [Document(page_content='테디가 살고 있는 곳은 대한민국 입니다.')]},\n",
      "                   'id': '00367c1d-5e3d-4dc1-9c25-09444ed6fda2',\n",
      "                   'metadata': {},\n",
      "                   'name': 'Docs',\n",
      "                   'start_time': '2024-02-03T07:12:44.826+00:00',\n",
      "                   'streamed_output': [],\n",
      "                   'streamed_output_str': [],\n",
      "                   'tags': ['map:key:context', 'FAISS', 'OpenAIEmbeddings'],\n",
      "                   'type': 'retriever'}},\n",
      " 'streamed_output': ['', '테', '디', '가', ' 살', '고', ' 있는']})\n",
      "----------------------------------------------------------------------\n",
      "RunLog({'final_output': '테디가 살고 있는 곳',\n",
      " 'id': '333a7d22-215a-40a7-bf31-06d405e06eaa',\n",
      " 'logs': {'Docs': {'end_time': '2024-02-03T07:12:45.099+00:00',\n",
      "                   'final_output': {'documents': [Document(page_content='테디가 살고 있는 곳은 대한민국 입니다.')]},\n",
      "                   'id': '00367c1d-5e3d-4dc1-9c25-09444ed6fda2',\n",
      "                   'metadata': {},\n",
      "                   'name': 'Docs',\n",
      "                   'start_time': '2024-02-03T07:12:44.826+00:00',\n",
      "                   'streamed_output': [],\n",
      "                   'streamed_output_str': [],\n",
      "                   'tags': ['map:key:context', 'FAISS', 'OpenAIEmbeddings'],\n",
      "                   'type': 'retriever'}},\n",
      " 'streamed_output': ['', '테', '디', '가', ' 살', '고', ' 있는', ' 곳']})\n",
      "----------------------------------------------------------------------\n",
      "RunLog({'final_output': '테디가 살고 있는 곳은',\n",
      " 'id': '333a7d22-215a-40a7-bf31-06d405e06eaa',\n",
      " 'logs': {'Docs': {'end_time': '2024-02-03T07:12:45.099+00:00',\n",
      "                   'final_output': {'documents': [Document(page_content='테디가 살고 있는 곳은 대한민국 입니다.')]},\n",
      "                   'id': '00367c1d-5e3d-4dc1-9c25-09444ed6fda2',\n",
      "                   'metadata': {},\n",
      "                   'name': 'Docs',\n",
      "                   'start_time': '2024-02-03T07:12:44.826+00:00',\n",
      "                   'streamed_output': [],\n",
      "                   'streamed_output_str': [],\n",
      "                   'tags': ['map:key:context', 'FAISS', 'OpenAIEmbeddings'],\n",
      "                   'type': 'retriever'}},\n",
      " 'streamed_output': ['', '테', '디', '가', ' 살', '고', ' 있는', ' 곳', '은']})\n",
      "----------------------------------------------------------------------\n",
      "RunLog({'final_output': '테디가 살고 있는 곳은 대',\n",
      " 'id': '333a7d22-215a-40a7-bf31-06d405e06eaa',\n",
      " 'logs': {'Docs': {'end_time': '2024-02-03T07:12:45.099+00:00',\n",
      "                   'final_output': {'documents': [Document(page_content='테디가 살고 있는 곳은 대한민국 입니다.')]},\n",
      "                   'id': '00367c1d-5e3d-4dc1-9c25-09444ed6fda2',\n",
      "                   'metadata': {},\n",
      "                   'name': 'Docs',\n",
      "                   'start_time': '2024-02-03T07:12:44.826+00:00',\n",
      "                   'streamed_output': [],\n",
      "                   'streamed_output_str': [],\n",
      "                   'tags': ['map:key:context', 'FAISS', 'OpenAIEmbeddings'],\n",
      "                   'type': 'retriever'}},\n",
      " 'streamed_output': ['', '테', '디', '가', ' 살', '고', ' 있는', ' 곳', '은', ' 대']})\n",
      "----------------------------------------------------------------------\n",
      "RunLog({'final_output': '테디가 살고 있는 곳은 대한',\n",
      " 'id': '333a7d22-215a-40a7-bf31-06d405e06eaa',\n",
      " 'logs': {'Docs': {'end_time': '2024-02-03T07:12:45.099+00:00',\n",
      "                   'final_output': {'documents': [Document(page_content='테디가 살고 있는 곳은 대한민국 입니다.')]},\n",
      "                   'id': '00367c1d-5e3d-4dc1-9c25-09444ed6fda2',\n",
      "                   'metadata': {},\n",
      "                   'name': 'Docs',\n",
      "                   'start_time': '2024-02-03T07:12:44.826+00:00',\n",
      "                   'streamed_output': [],\n",
      "                   'streamed_output_str': [],\n",
      "                   'tags': ['map:key:context', 'FAISS', 'OpenAIEmbeddings'],\n",
      "                   'type': 'retriever'}},\n",
      " 'streamed_output': ['', '테', '디', '가', ' 살', '고', ' 있는', ' 곳', '은', ' 대', '한']})\n",
      "----------------------------------------------------------------------\n",
      "RunLog({'final_output': '테디가 살고 있는 곳은 대한민',\n",
      " 'id': '333a7d22-215a-40a7-bf31-06d405e06eaa',\n",
      " 'logs': {'Docs': {'end_time': '2024-02-03T07:12:45.099+00:00',\n",
      "                   'final_output': {'documents': [Document(page_content='테디가 살고 있는 곳은 대한민국 입니다.')]},\n",
      "                   'id': '00367c1d-5e3d-4dc1-9c25-09444ed6fda2',\n",
      "                   'metadata': {},\n",
      "                   'name': 'Docs',\n",
      "                   'start_time': '2024-02-03T07:12:44.826+00:00',\n",
      "                   'streamed_output': [],\n",
      "                   'streamed_output_str': [],\n",
      "                   'tags': ['map:key:context', 'FAISS', 'OpenAIEmbeddings'],\n",
      "                   'type': 'retriever'}},\n",
      " 'streamed_output': ['',\n",
      "                     '테',\n",
      "                     '디',\n",
      "                     '가',\n",
      "                     ' 살',\n",
      "                     '고',\n",
      "                     ' 있는',\n",
      "                     ' 곳',\n",
      "                     '은',\n",
      "                     ' 대',\n",
      "                     '한',\n",
      "                     '민']})\n",
      "----------------------------------------------------------------------\n",
      "RunLog({'final_output': '테디가 살고 있는 곳은 대한민국',\n",
      " 'id': '333a7d22-215a-40a7-bf31-06d405e06eaa',\n",
      " 'logs': {'Docs': {'end_time': '2024-02-03T07:12:45.099+00:00',\n",
      "                   'final_output': {'documents': [Document(page_content='테디가 살고 있는 곳은 대한민국 입니다.')]},\n",
      "                   'id': '00367c1d-5e3d-4dc1-9c25-09444ed6fda2',\n",
      "                   'metadata': {},\n",
      "                   'name': 'Docs',\n",
      "                   'start_time': '2024-02-03T07:12:44.826+00:00',\n",
      "                   'streamed_output': [],\n",
      "                   'streamed_output_str': [],\n",
      "                   'tags': ['map:key:context', 'FAISS', 'OpenAIEmbeddings'],\n",
      "                   'type': 'retriever'}},\n",
      " 'streamed_output': ['',\n",
      "                     '테',\n",
      "                     '디',\n",
      "                     '가',\n",
      "                     ' 살',\n",
      "                     '고',\n",
      "                     ' 있는',\n",
      "                     ' 곳',\n",
      "                     '은',\n",
      "                     ' 대',\n",
      "                     '한',\n",
      "                     '민',\n",
      "                     '국']})\n",
      "----------------------------------------------------------------------\n",
      "RunLog({'final_output': '테디가 살고 있는 곳은 대한민국입니다',\n",
      " 'id': '333a7d22-215a-40a7-bf31-06d405e06eaa',\n",
      " 'logs': {'Docs': {'end_time': '2024-02-03T07:12:45.099+00:00',\n",
      "                   'final_output': {'documents': [Document(page_content='테디가 살고 있는 곳은 대한민국 입니다.')]},\n",
      "                   'id': '00367c1d-5e3d-4dc1-9c25-09444ed6fda2',\n",
      "                   'metadata': {},\n",
      "                   'name': 'Docs',\n",
      "                   'start_time': '2024-02-03T07:12:44.826+00:00',\n",
      "                   'streamed_output': [],\n",
      "                   'streamed_output_str': [],\n",
      "                   'tags': ['map:key:context', 'FAISS', 'OpenAIEmbeddings'],\n",
      "                   'type': 'retriever'}},\n",
      " 'streamed_output': ['',\n",
      "                     '테',\n",
      "                     '디',\n",
      "                     '가',\n",
      "                     ' 살',\n",
      "                     '고',\n",
      "                     ' 있는',\n",
      "                     ' 곳',\n",
      "                     '은',\n",
      "                     ' 대',\n",
      "                     '한',\n",
      "                     '민',\n",
      "                     '국',\n",
      "                     '입니다']})\n",
      "----------------------------------------------------------------------\n",
      "RunLog({'final_output': '테디가 살고 있는 곳은 대한민국입니다.',\n",
      " 'id': '333a7d22-215a-40a7-bf31-06d405e06eaa',\n",
      " 'logs': {'Docs': {'end_time': '2024-02-03T07:12:45.099+00:00',\n",
      "                   'final_output': {'documents': [Document(page_content='테디가 살고 있는 곳은 대한민국 입니다.')]},\n",
      "                   'id': '00367c1d-5e3d-4dc1-9c25-09444ed6fda2',\n",
      "                   'metadata': {},\n",
      "                   'name': 'Docs',\n",
      "                   'start_time': '2024-02-03T07:12:44.826+00:00',\n",
      "                   'streamed_output': [],\n",
      "                   'streamed_output_str': [],\n",
      "                   'tags': ['map:key:context', 'FAISS', 'OpenAIEmbeddings'],\n",
      "                   'type': 'retriever'}},\n",
      " 'streamed_output': ['',\n",
      "                     '테',\n",
      "                     '디',\n",
      "                     '가',\n",
      "                     ' 살',\n",
      "                     '고',\n",
      "                     ' 있는',\n",
      "                     ' 곳',\n",
      "                     '은',\n",
      "                     ' 대',\n",
      "                     '한',\n",
      "                     '민',\n",
      "                     '국',\n",
      "                     '입니다',\n",
      "                     '.']})\n",
      "----------------------------------------------------------------------\n",
      "RunLog({'final_output': '테디가 살고 있는 곳은 대한민국입니다.',\n",
      " 'id': '333a7d22-215a-40a7-bf31-06d405e06eaa',\n",
      " 'logs': {'Docs': {'end_time': '2024-02-03T07:12:45.099+00:00',\n",
      "                   'final_output': {'documents': [Document(page_content='테디가 살고 있는 곳은 대한민국 입니다.')]},\n",
      "                   'id': '00367c1d-5e3d-4dc1-9c25-09444ed6fda2',\n",
      "                   'metadata': {},\n",
      "                   'name': 'Docs',\n",
      "                   'start_time': '2024-02-03T07:12:44.826+00:00',\n",
      "                   'streamed_output': [],\n",
      "                   'streamed_output_str': [],\n",
      "                   'tags': ['map:key:context', 'FAISS', 'OpenAIEmbeddings'],\n",
      "                   'type': 'retriever'}},\n",
      " 'streamed_output': ['',\n",
      "                     '테',\n",
      "                     '디',\n",
      "                     '가',\n",
      "                     ' 살',\n",
      "                     '고',\n",
      "                     ' 있는',\n",
      "                     ' 곳',\n",
      "                     '은',\n",
      "                     ' 대',\n",
      "                     '한',\n",
      "                     '민',\n",
      "                     '국',\n",
      "                     '입니다',\n",
      "                     '.',\n",
      "                     '']})\n"
     ]
    }
   ],
   "source": [
    "async for chunk in retrieval_chain.astream_log(\n",
    "    \"테디가 살고 있는 곳은 어딘가요?\", include_names=[\"Docs\"], diff=False\n",
    "):\n",
    "    print(\"-\" * 70)\n",
    "    print(chunk)"
   ]
  },
  {
   "cell_type": "markdown",
   "id": "fe0b9377",
   "metadata": {},
   "source": [
    "## Parallel: 병렬성\n",
    "\n",
    "LangChain Expression Language가 병렬 요청을 지원하는 방법을 살펴봅시다.\n",
    "예를 들어, `RunnableParallel`을 사용할 때(자주 사전 형태로 작성됨), 각 요소를 병렬로 실행합니다.\n"
   ]
  },
  {
   "cell_type": "markdown",
   "id": "84a387f0",
   "metadata": {},
   "source": [
    "`langchain_core.runnables` 모듈의 `RunnableParallel` 클래스를 사용하여 두 가지 작업을 병렬로 실행하는 예시를 보여줍니다.\n",
    "\n",
    "`ChatPromptTemplate.from_template` 메서드를 사용하여 주어진 `country`에 대한 **수도** 와 **면적** 을 구하는 두 개의 체인(`chain1`, `chain2`)을 만듭니다.\n",
    "\n",
    "이 체인들은 각각 `model`과 파이프(`|`) 연산자를 통해 연결됩니다. 마지막으로, `RunnableParallel` 클래스를 사용하여 이 두 체인을 `capital`와 `area`이라는 키로 결합하여 동시에 실행할 수 있는 `combined` 객체를 생성합니다.\n"
   ]
  },
  {
   "cell_type": "code",
   "execution_count": 27,
   "id": "c2b42d05",
   "metadata": {},
   "outputs": [],
   "source": [
    "from langchain_core.runnables import RunnableParallel\n",
    "\n",
    "# {country} 의 수도를 물어보는 체인을 생성합니다.\n",
    "chain1 = ChatPromptTemplate.from_template(\"{country} 의 수도는 어디야?\") | model\n",
    "\n",
    "# {country} 의 면적을 물어보는 체인을 생성합니다.\n",
    "chain2 = ChatPromptTemplate.from_template(\"{country} 의 면적은 얼마야?\") | model\n",
    "# 위의 2개 체인을 동시에 생성하는 병렬 실행 체인을 생성합니다.\n",
    "combined = RunnableParallel(capital=chain1, area=chain2)"
   ]
  },
  {
   "cell_type": "markdown",
   "id": "3bb0a2b8",
   "metadata": {},
   "source": [
    "`chain1.invoke()` 함수는 `chain1` 객체의 `invoke` 메서드를 호출합니다.\n",
    "\n",
    "이때, `country`이라는 키에 `대한민국`라는 값을 가진 딕셔너리를 인자로 전달합니다.\n"
   ]
  },
  {
   "cell_type": "code",
   "execution_count": 28,
   "id": "f04dbce0",
   "metadata": {},
   "outputs": [
    {
     "data": {
      "text/plain": [
       "AIMessage(content='대한민국의 수도는 서울입니다.')"
      ]
     },
     "execution_count": 28,
     "metadata": {},
     "output_type": "execute_result"
    }
   ],
   "source": [
    "chain1.invoke(\n",
    "    {\"country\": \"대한민국\"}\n",
    ")  # chain1 객체의 invoke 메서드를 호출하고, 'country' 키에 '대한민국' 값을 전달합니다."
   ]
  },
  {
   "cell_type": "markdown",
   "id": "fa819963",
   "metadata": {},
   "source": [
    "이번에는 `chain2.invoke()` 를 호출합니다. `country` 키에 다른 국가인 `미국` 을 전달합니다.\n"
   ]
  },
  {
   "cell_type": "code",
   "execution_count": 29,
   "id": "5b055566",
   "metadata": {},
   "outputs": [
    {
     "data": {
      "text/plain": [
       "AIMessage(content='미국의 면적은 약 9,826,675 제곱 킬로미터입니다.')"
      ]
     },
     "execution_count": 29,
     "metadata": {},
     "output_type": "execute_result"
    }
   ],
   "source": [
    "# chain2 객체의 invoke 메서드를 호출하고, '미국'이라는 인자를 전달합니다.\n",
    "chain2.invoke({\"country\": \"미국\"})"
   ]
  },
  {
   "cell_type": "markdown",
   "id": "7d5f3bbb",
   "metadata": {},
   "source": [
    "`combined` 객체의 `invoke` 메서드는 주어진 `country`에 대한 처리를 수행합니다.\n",
    "\n",
    "이 예제에서는 `대한민국`라는 주제를 `invoke` 메서드에 전달하여 실행합니다.\n"
   ]
  },
  {
   "cell_type": "code",
   "execution_count": 30,
   "id": "6fa82d78",
   "metadata": {},
   "outputs": [
    {
     "data": {
      "text/plain": [
       "{'capital': AIMessage(content='대한민국의 수도는 서울입니다.'),\n",
       " 'area': AIMessage(content='대한민국의 면적은 약 100,363.4 제곱킬로미터입니다.')}"
      ]
     },
     "execution_count": 30,
     "metadata": {},
     "output_type": "execute_result"
    }
   ],
   "source": [
    "# 주어진 'country'에 대해 'combined' 객체의 'invoke' 메서드를 호출합니다.\n",
    "combined.invoke({\"country\": \"대한민국\"})"
   ]
  },
  {
   "cell_type": "markdown",
   "id": "459613b6",
   "metadata": {},
   "source": [
    "### 배치에서의 병렬 처리\n",
    "\n",
    "병렬 처리는 다른 실행 가능한 코드와 결합될 수 있습니다.\n",
    "배치와 병렬 처리를 사용해 보도록 합시다.\n"
   ]
  },
  {
   "cell_type": "markdown",
   "id": "da1621ce",
   "metadata": {},
   "source": [
    "`chain1.batch` 함수는 여러 개의 딕셔너리를 포함하는 리스트를 인자로 받아, 각 딕셔너리에 있는 \"topic\" 키에 해당하는 값을 처리합니다. 이 예시에서는 \"대한민국\"와 \"미국\"라는 두 개의 토픽을 배치 처리하고 있습니다.\n"
   ]
  },
  {
   "cell_type": "code",
   "execution_count": 32,
   "id": "0754e0ae",
   "metadata": {},
   "outputs": [
    {
     "data": {
      "text/plain": [
       "[AIMessage(content='대한민국의 수도는 서울입니다.'),\n",
       " AIMessage(content='미국의 수도는 워싱턴 D.C. (Washington D.C.)입니다.')]"
      ]
     },
     "execution_count": 32,
     "metadata": {},
     "output_type": "execute_result"
    }
   ],
   "source": [
    "# 배치 처리를 수행합니다.\n",
    "chain1.batch([{\"country\": \"대한민국\"}, {\"country\": \"미국\"}])"
   ]
  },
  {
   "cell_type": "markdown",
   "id": "2bb73505",
   "metadata": {},
   "source": [
    "`chain2.batch` 함수는 여러 개의 딕셔너리를 리스트 형태로 받아, 일괄 처리(batch)를 수행합니다.\n",
    "\n",
    "이 예시에서는 `대한민국`와 `미국`라는 두 가지 국가에 대한 처리를 요청합니다.\n"
   ]
  },
  {
   "cell_type": "code",
   "execution_count": 33,
   "id": "1f076b08",
   "metadata": {},
   "outputs": [
    {
     "data": {
      "text/plain": [
       "[AIMessage(content='대한민국의 면적은 약 100,363 km²입니다.'),\n",
       " AIMessage(content='미국의 면적은 약 9,826,675km²입니다.')]"
      ]
     },
     "execution_count": 33,
     "metadata": {},
     "output_type": "execute_result"
    }
   ],
   "source": [
    "# 배치 처리를 수행합니다.\n",
    "chain2.batch([{\"country\": \"대한민국\"}, {\"country\": \"미국\"}])"
   ]
  },
  {
   "cell_type": "markdown",
   "id": "f40da05e",
   "metadata": {},
   "source": [
    "`combined.batch` 함수는 주어진 데이터를 배치로 처리하는 데 사용됩니다. 이 예시에서는 두 개의 딕셔너리 객체를 포함하는 리스트를 인자로 받아 각각 `대한민국`와 `미국` 두 나라에 대한 데이터를 배치 처리합니다.\n"
   ]
  },
  {
   "cell_type": "code",
   "execution_count": 34,
   "id": "aeec745e",
   "metadata": {},
   "outputs": [
    {
     "data": {
      "text/plain": [
       "[{'capital': AIMessage(content='대한민국의 수도는 서울입니다.'),\n",
       "  'area': AIMessage(content='대한민국의 면적은 약 100,363 제곱킬로미터입니다.')},\n",
       " {'capital': AIMessage(content='미국의 수도는 워싱턴 D.C. (District of Columbia) 입니다.'),\n",
       "  'area': AIMessage(content='미국의 면적은 약 9,826,675 제곱 킬로미터입니다.')}]"
      ]
     },
     "execution_count": 34,
     "metadata": {},
     "output_type": "execute_result"
    }
   ],
   "source": [
    "# 주어진 데이터를 배치로 처리합니다.\n",
    "combined.batch([{\"country\": \"대한민국\"}, {\"country\": \"미국\"}])"
   ]
  }
 ],
 "metadata": {
  "kernelspec": {
   "display_name": "py-test",
   "language": "python",
   "name": "python3"
  },
  "language_info": {
   "codemirror_mode": {
    "name": "ipython",
    "version": 3
   },
   "file_extension": ".py",
   "mimetype": "text/x-python",
   "name": "python",
   "nbconvert_exporter": "python",
   "pygments_lexer": "ipython3",
   "version": "3.11.9"
  }
 },
 "nbformat": 4,
 "nbformat_minor": 5
}
